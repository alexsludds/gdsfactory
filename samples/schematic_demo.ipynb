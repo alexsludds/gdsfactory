{
 "cells": [
  {
   "cell_type": "markdown",
   "id": "9c666b41-91a4-4e70-827c-62998e49bb2b",
   "metadata": {},
   "source": [
    "# Schematic Editor Demo\n",
    "\n",
    "This is a proof-of-concept demo of a Schematic Editor using gdsfactory"
   ]
  },
  {
   "cell_type": "code",
   "execution_count": null,
   "id": "a0571225-d483-43cd-b487-816daa35118b",
   "metadata": {},
   "outputs": [],
   "source": [
    "%env BOKEH_ALLOW_WS_ORIGIN=localhost:8889\n",
    "\n",
    "from gdsfactory.schematic_editor import SchematicEditor\n",
    "from bokeh.io import output_notebook\n",
    "import os\n",
    "\n",
    "output_notebook()"
   ]
  },
  {
   "cell_type": "markdown",
   "id": "186155e3-7021-4b4c-86f6-94f2ca3ca78f",
   "metadata": {},
   "source": [
    "## Initialize the Schematic Editor session\n",
    "\n",
    "First we initialize a session of the schematic editor. The editor is synced to the file specified. If it does not exist, it will be created. If it does exist, it will load the schematic for editing."
   ]
  },
  {
   "cell_type": "code",
   "execution_count": null,
   "id": "d80a7a4d-4987-454e-9486-b25d15086124",
   "metadata": {},
   "outputs": [],
   "source": [
    "se = SchematicEditor('test.schem.yml')"
   ]
  },
  {
   "cell_type": "markdown",
   "id": "7ec0e5d8-216c-4116-8d1a-8899c67cf7ce",
   "metadata": {},
   "source": [
    "## Define instances\n",
    "\n",
    "The first step in setting up a schematic is to define which instances should be included. We do this through this grid-like editor. Note how the components are auto-populated from our PDK"
   ]
  },
  {
   "cell_type": "code",
   "execution_count": null,
   "id": "9265996e-4a44-45d8-9f01-545874e2ed0a",
   "metadata": {},
   "outputs": [],
   "source": [
    "se.widget"
   ]
  },
  {
   "cell_type": "code",
   "execution_count": null,
   "id": "8f537be4-2d5c-4028-8d8a-5ec1d27ca5b4",
   "metadata": {},
   "outputs": [],
   "source": [
    "se.instances.keys()"
   ]
  },
  {
   "cell_type": "code",
   "execution_count": null,
   "id": "5ff026fb-516c-4cc7-a121-34d4359618d4",
   "metadata": {},
   "outputs": [],
   "source": [
    "se.instances['e1'].settings"
   ]
  },
  {
   "cell_type": "code",
   "execution_count": null,
   "id": "eaa87873-a515-4c1e-9d75-133a6e00887a",
   "metadata": {},
   "outputs": [],
   "source": [
    "se.update_settings('e1', 'angle', 60)\n",
    "se.update_settings('euler2', 'angle', 29)\n",
    "\n",
    "se.instances['e1'].settings\n",
    "se.instances['euler2'].settings"
   ]
  },
  {
   "cell_type": "markdown",
   "id": "ab1ce930-5d29-46aa-bac9-96181f0c487a",
   "metadata": {},
   "source": [
    "## Define nets\n",
    "\n",
    "Now, we define our logical connections between instances in our netlist. Each row in the grid represents one logical connection"
   ]
  },
  {
   "cell_type": "code",
   "execution_count": null,
   "id": "81b60c24-fee6-4a1e-b818-e9228148a35c",
   "metadata": {},
   "outputs": [],
   "source": [
    "se.net_widget"
   ]
  },
  {
   "cell_type": "code",
   "execution_count": null,
   "id": "69afc4ac-2c2a-49ee-a859-efe2788b1434",
   "metadata": {},
   "outputs": [],
   "source": [
    "se.write_netlist()"
   ]
  },
  {
   "cell_type": "code",
   "execution_count": null,
   "id": "a34124a7-3f92-422b-8113-597568ca3b8a",
   "metadata": {},
   "outputs": [],
   "source": [
    "se.visualize()"
   ]
  },
  {
   "cell_type": "code",
   "execution_count": null,
   "id": "4c7d533e-a4c6-4dae-9c6a-02c3a370f568",
   "metadata": {},
   "outputs": [],
   "source": []
  }
 ],
 "metadata": {
  "kernelspec": {
   "display_name": "rpdk",
   "language": "python",
   "name": "rpdk"
  },
  "language_info": {
   "codemirror_mode": {
    "name": "ipython",
    "version": 3
   },
   "file_extension": ".py",
   "mimetype": "text/x-python",
   "name": "python",
   "nbconvert_exporter": "python",
   "pygments_lexer": "ipython3",
   "version": "3.10.0"
  }
 },
 "nbformat": 4,
 "nbformat_minor": 5
}
